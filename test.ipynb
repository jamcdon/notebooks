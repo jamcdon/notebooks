{
 "cells": [
  {
   "cell_type": "code",
   "execution_count": 1,
   "metadata": {},
   "outputs": [],
   "source": [
    "#imports imports!\n",
    "import requests"
   ]
  },
  {
   "cell_type": "code",
   "execution_count": 2,
   "metadata": {},
   "outputs": [],
   "source": [
    "class api:\n",
    "    #create the object\n",
    "    def __init__(self, url=None, headers=None, params=None):\n",
    "        self.url = url\n",
    "        self.headers = headers\n",
    "        self.params = params\n",
    "    def get_info(obj):\n",
    "        print('url:\\t\\t{}'.format(obj.url))\n",
    "        if headers != {}:\n",
    "            print('headers:')\n",
    "            for key,val in obj.headers.items():\n",
    "                print('\\t\\t{}:\\t{}'.format(key,val))\n",
    "        else:\n",
    "            print('headers:\\t{}'.format(obj.headers))\n",
    "        if params != {}:\n",
    "            print('params:')\n",
    "            for key,val in obj.params.items():\n",
    "                print('\\t\\t{}:\\t{}'.format(key,val))\n",
    "        else:\n",
    "            print('params:\\t\\t{}'.format(obj.params))\n",
    "    #generic api call\n",
    "    def call(obj):\n",
    "        req = requests.get(obj.url, headers=obj.headers, params=obj.params)\n",
    "        return(req.json())"
   ]
  },
  {
   "cell_type": "code",
   "execution_count": 3,
   "metadata": {},
   "outputs": [
    {
     "name": "stdout",
     "output_type": "stream",
     "text": [
      "url:\t\thttps://www.omdbapi.com/\n",
      "headers:\t{}\n",
      "params:\n",
      "\t\tt:\tJohn+Wick\n",
      "\t\tapikey:\t4a15a3ad\n"
     ]
    }
   ],
   "source": [
    "#set the object paramaters\n",
    "url = 'https://www.omdbapi.com/'\n",
    "headers = {}\n",
    "params = {\n",
    "    't': 'John Wick',\n",
    "    'apikey': '4a15a3ad'\n",
    "    }\n",
    "params[\"t\"] = params[\"t\"].replace(' ', '+')\n",
    "# create the api object with above params\n",
    "api_obj = api(url,headers,params)\n",
    "api_obj.get_info()"
   ]
  },
  {
   "cell_type": "code",
   "execution_count": 4,
   "metadata": {},
   "outputs": [
    {
     "name": "stdout",
     "output_type": "stream",
     "text": [
      "{'Title': 'John Wick', 'Year': '2014', 'Rated': 'R', 'Released': '24 Oct 2014', 'Runtime': '101 min', 'Genre': 'Action, Crime, Thriller', 'Director': 'Chad Stahelski, David Leitch', 'Writer': 'Derek Kolstad', 'Actors': 'Keanu Reeves, Michael Nyqvist, Alfie Allen, Willem Dafoe', 'Plot': 'An ex-hit-man comes out of retirement to track down the gangsters that killed his dog and took everything from him.', 'Language': 'English, Russian, Hungarian', 'Country': 'USA, UK, China', 'Awards': '5 wins & 10 nominations.', 'Poster': 'https://m.media-amazon.com/images/M/MV5BMTU2NjA1ODgzMF5BMl5BanBnXkFtZTgwMTM2MTI4MjE@._V1_SX300.jpg', 'Ratings': [{'Source': 'Internet Movie Database', 'Value': '7.4/10'}, {'Source': 'Rotten Tomatoes', 'Value': '86%'}, {'Source': 'Metacritic', 'Value': '68/100'}], 'Metascore': '68', 'imdbRating': '7.4', 'imdbVotes': '549,197', 'imdbID': 'tt2911666', 'Type': 'movie', 'DVD': '07 Jun 2016', 'BoxOffice': '$43,037,835', 'Production': '87eleven, Defynite Films, Thunder Road Pictures', 'Website': 'N/A', 'Response': 'True'}\n"
     ]
    }
   ],
   "source": [
    "#run the api request\n",
    "print(api_obj.call())"
   ]
  },
  {
   "cell_type": "code",
   "execution_count": null,
   "metadata": {},
   "outputs": [],
   "source": []
  }
 ],
 "metadata": {
  "kernelspec": {
   "display_name": "Python 3",
   "language": "python",
   "name": "python3"
  },
  "language_info": {
   "codemirror_mode": {
    "name": "ipython",
    "version": 3
   },
   "file_extension": ".py",
   "mimetype": "text/x-python",
   "name": "python",
   "nbconvert_exporter": "python",
   "pygments_lexer": "ipython3",
   "version": "3.8.5"
  }
 },
 "nbformat": 4,
 "nbformat_minor": 2
}
